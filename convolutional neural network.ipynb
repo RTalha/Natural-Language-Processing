{
 "cells": [
  {
   "cell_type": "code",
   "execution_count": 31,
   "metadata": {},
   "outputs": [],
   "source": [
    "import keras\n",
    "from keras.models import Sequential\n",
    "from keras.layers.core import Dense,Dropout,Flatten,Activation\n",
    "from keras.layers.convolutional import Convolution2D,MaxPooling2D\n",
    "from sklearn.model_selection import train_test_split\n",
    "from sklearn.utils import shuffle\n",
    "from numpy import *\n",
    "import pandas as pd\n",
    "import os\n",
    "from PIL import Image\n",
    "import matplotlib as plt\n",
    "from keras.optimizers import SGD,RMSprop,adam\n",
    "#/home/talha/Downloads/all/imagecl/all\n"
   ]
  },
  {
   "cell_type": "code",
   "execution_count": 32,
   "metadata": {
    "collapsed": true
   },
   "outputs": [],
   "source": [
    "data_path = \"/home/talha/Downloads/all/imagecl/all\"\n",
    "preprocess_data_path=\"/home/talha/Downloads/all/imagecl/preprocess_data\"\n",
    "data_dir_list = os.listdir(data_path)"
   ]
  },
  {
   "cell_type": "code",
   "execution_count": 33,
   "metadata": {
    "collapsed": true
   },
   "outputs": [],
   "source": [
    "img_rows=375\n",
    "img_cols=375\n",
    "num_channel=1\n",
    "\n",
    "num_classes = 4\n",
    "\n",
    "img_data_list=[]"
   ]
  },
  {
   "cell_type": "code",
   "execution_count": 35,
   "metadata": {},
   "outputs": [],
   "source": [
    "for file in data_dir_list:\n",
    "    im=Image.open(data_path+\"//\"+file)\n",
    "    img=im.resize((img_rows,img_cols))\n",
    "    gray=img.convert('L')\n",
    "    gray.save(preprocess_data_path+\"//\"+file,\"JPEG\")"
   ]
  },
  {
   "cell_type": "code",
   "execution_count": 27,
   "metadata": {},
   "outputs": [],
   "source": [
    "imlist=os.listdir(preprocess_data_path)\n",
    "im1=array(Image.open(preprocess_data_path+\"//\"+imlist[0]))"
   ]
  },
  {
   "cell_type": "code",
   "execution_count": 36,
   "metadata": {},
   "outputs": [],
   "source": [
    "imlist=os.listdir(preprocess_data_path)\n",
    "imatrix=np.array([np.array(Image.open(preprocess_data_path+\"//\"+im2)).flatten()\n",
    "              for im2 in imlist],'f')"
   ]
  },
  {
   "cell_type": "code",
   "execution_count": 38,
   "metadata": {},
   "outputs": [],
   "source": [
    "num_samples=size(imlist)\n",
    "label=ones((num_samples,),dtype=int)"
   ]
  },
  {
   "cell_type": "code",
   "execution_count": 39,
   "metadata": {},
   "outputs": [
    {
     "name": "stdout",
     "output_type": "stream",
     "text": [
      "['car461.jpg', 'motorbike66.jpg', 'motorbike14.jpg', 'car67.jpg', 'motorbike171.jpg', 'car110.jpg', 'car152.jpg', 'bicycle145.jpg', 'car30.jpg', 'motorbike184.jpg', 'motorbike183.jpg', 'car79.jpg', 'bicycle152.jpg', 'bicycle18.jpg', 'car498.jpg', 'car510.jpg', 'car64.jpg', 'car479.jpg', 'car484.jpg', 'motorbike198.jpg', 'car210.jpg', 'car430.jpg', 'motorbike27.jpg', 'bicycle154.jpg', 'car107.jpg', 'motorbike166.jpg', 'car379.jpg', 'car156.jpg', 'motorbike63.jpg', 'motorbike26.jpg', 'car175.jpg', 'car221.jpg', 'motorbike200.jpg', 'car15.jpg', 'bicycle49.jpg', 'car196.jpg', 'bicycle177.jpg', 'motorbike204.jpg', 'bicycle13.jpg', 'car185.jpg', 'car90.jpg', 'motorbike16.jpg', 'car214.jpg', 'car351.jpg', 'motorbike162.jpg', 'car346.jpg', 'motorbike153.jpg', 'car51.jpg', 'car154.jpg', 'car255.jpg', 'motorbike0.jpg', 'bicycle29.jpg', 'car11.jpg', 'bicycle120.jpg', 'motorbike24.jpg', 'motorbike187.jpg', 'bicycle197.jpg', 'motorbike150.jpg', 'car262.jpg', 'motorbike195.jpg', 'car242.jpg', 'car264.jpg', 'motorbike212.jpg', 'motorbike185.jpg', 'car43.jpg', 'car206.jpg', 'car166.jpg', 'motorbike119.jpg', 'bicycle33.jpg', 'car204.jpg', 'car438.jpg', 'car364.jpg', 'motorbike90.jpg', 'bicycle186.jpg', 'car183.jpg', 'car244.jpg', 'car117.jpg', 'car446.jpg', 'car471.jpg', 'bicycle110.jpg', 'bicycle51.jpg', 'car265.jpg', 'motorbike92.jpg', 'car63.jpg', 'car72.jpg', 'car81.jpg', 'car456.jpg', 'motorbike50.jpg', 'car59.jpg', 'car458.jpg', 'motorbike73.jpg', 'car144.jpg', 'bicycle103.jpg', 'motorbike39.jpg', 'bicycle174.jpg', 'car441.jpg', 'bicycle14.jpg', 'bicycle62.jpg', 'car466.jpg', 'car513.jpg', 'motorbike64.jpg', 'car407.jpg', 'motorbike143.jpg', 'bicycle134.jpg', 'car177.jpg', 'bicycle17.jpg', 'car422.jpg', 'bicycle210.jpg', 'car155.jpg', 'motorbike199.jpg', 'motorbike109.jpg', 'bicycle6.jpg', 'bicycle194.jpg', 'motorbike55.jpg', 'bicycle41.jpg', 'car85.jpg', 'car487.jpg', 'car137.jpg', 'motorbike79.jpg', 'car190.jpg', 'car369.jpg', 'car254.jpg', 'bicycle224.jpg', 'car302.jpg', 'car289.jpg', 'car82.jpg', 'motorbike149.jpg', 'motorbike161.jpg', 'motorbike134.jpg', 'bicycle131.jpg', 'car299.jpg', 'bicycle50.jpg', 'car449.jpg', 'car213.jpg', 'car372.jpg', 'car415.jpg', 'car215.jpg', 'car361.jpg', 'car2.jpg', 'car119.jpg', 'car342.jpg', 'motorbike2.jpg', 'motorbike83.jpg', 'car191.jpg', 'car217.jpg', 'motorbike106.jpg', 'bicycle222.jpg', 'bicycle27.jpg', 'car329.jpg', 'car507.jpg', 'bicycle57.jpg', 'car131.jpg', 'car460.jpg', 'motorbike71.jpg', 'car414.jpg', 'car315.jpg', 'car298.jpg', 'bicycle75.jpg', 'car105.jpg', 'car118.jpg', 'bicycle26.jpg', 'motorbike208.jpg', 'car139.jpg', 'car55.jpg', 'car16.jpg', 'motorbike5.jpg', 'car390.jpg', 'car26.jpg', 'car29.jpg', 'motorbike209.jpg', 'bicycle207.jpg', 'bicycle227.jpg', 'bicycle109.jpg', 'car327.jpg', 'car429.jpg', 'bicycle84.jpg', 'motorbike147.jpg', 'bicycle130.jpg', 'car356.jpg', 'bicycle216.jpg', 'motorbike196.jpg', 'car65.jpg', 'bicycle86.jpg', 'bicycle214.jpg', 'motorbike167.jpg', 'car125.jpg', 'bicycle67.jpg', 'car157.jpg', 'motorbike136.jpg', 'car443.jpg', 'car4.jpg', 'motorbike211.jpg', 'car345.jpg', 'motorbike155.jpg', 'bicycle63.jpg', 'motorbike44.jpg', 'motorbike46.jpg', 'motorbike110.jpg', 'car187.jpg', 'motorbike54.jpg', 'motorbike182.jpg', 'car417.jpg', 'bicycle111.jpg', 'car83.jpg', 'motorbike117.jpg', 'motorbike142.jpg', 'motorbike165.jpg', 'car400.jpg', 'bicycle183.jpg', 'motorbike197.jpg', 'bicycle144.jpg', 'car453.jpg', 'motorbike180.jpg', 'car506.jpg', 'bicycle81.jpg', 'car76.jpg', 'car9.jpg', 'car98.jpg', 'car120.jpg', 'car366.jpg', 'car423.jpg', 'car290.jpg', 'car409.jpg', 'car186.jpg', 'car418.jpg', 'bicycle112.jpg', 'motorbike10.jpg', 'car163.jpg', 'motorbike96.jpg', 'motorbike116.jpg', 'car52.jpg', 'bicycle221.jpg', 'motorbike216.jpg', 'motorbike201.jpg', 'bicycle127.jpg', 'car338.jpg', 'bicycle72.jpg', 'bicycle179.jpg', 'motorbike9.jpg', 'car197.jpg', 'bicycle195.jpg', 'car283.jpg', 'bicycle202.jpg', 'car388.jpg', 'car123.jpg', 'car180.jpg', 'car267.jpg', 'car158.jpg', 'car92.jpg', 'motorbike36.jpg', 'motorbike164.jpg', 'bicycle105.jpg', 'bicycle92.jpg', 'car357.jpg', 'bicycle74.jpg', 'bicycle122.jpg', 'car491.jpg', 'bicycle55.jpg', 'car392.jpg', 'car201.jpg', 'bicycle31.jpg', 'bicycle100.jpg', 'bicycle159.jpg', 'motorbike173.jpg', 'bicycle61.jpg', 'car129.jpg', 'motorbike49.jpg', 'car294.jpg', 'car440.jpg', 'bicycle204.jpg', 'car212.jpg', 'car17.jpg', 'car331.jpg', 'car216.jpg', 'car358.jpg', 'car380.jpg', 'car251.jpg', 'bicycle16.jpg', 'car435.jpg', 'car389.jpg', 'car61.jpg', 'car274.jpg', 'car386.jpg', 'bicycle149.jpg', 'motorbike87.jpg', 'car236.jpg', 'motorbike60.jpg', 'motorbike75.jpg', 'car332.jpg', 'bicycle208.jpg', 'bicycle170.jpg', 'car58.jpg', 'bicycle203.jpg', 'motorbike62.jpg', 'motorbike207.jpg', 'bicycle230.jpg', 'car35.jpg', 'motorbike57.jpg', 'car18.jpg', 'car223.jpg', 'bicycle191.jpg', 'motorbike20.jpg', 'motorbike178.jpg', 'motorbike88.jpg', 'motorbike156.jpg', 'car34.jpg', 'car496.jpg', 'car91.jpg', 'bicycle185.jpg', 'bicycle45.jpg', 'bicycle25.jpg', 'bicycle171.jpg', 'car337.jpg', 'car493.jpg', 'bicycle135.jpg', 'bicycle48.jpg', 'bicycle36.jpg', 'bicycle123.jpg', 'bicycle160.jpg', 'motorbike206.jpg', 'car279.jpg', 'car335.jpg', 'car241.jpg', 'car291.jpg', 'bicycle229.jpg', 'car333.jpg', 'motorbike8.jpg', 'motorbike108.jpg', 'car56.jpg', 'motorbike144.jpg', 'motorbike115.jpg', 'car468.jpg', 'bicycle220.jpg', 'car174.jpg', 'bicycle83.jpg', 'car319.jpg', 'car467.jpg', 'motorbike101.jpg', 'bicycle201.jpg', 'car420.jpg', 'car194.jpg', 'bicycle223.jpg', 'car115.jpg', 'car316.jpg', 'motorbike190.jpg', 'bicycle176.jpg', 'car275.jpg', 'bicycle4.jpg', 'car111.jpg', 'bicycle96.jpg', 'car323.jpg', 'car307.jpg', 'car259.jpg', 'car322.jpg', 'car431.jpg', 'motorbike74.jpg', 'car44.jpg', 'car478.jpg', 'car497.jpg', 'bicycle102.jpg', 'bicycle196.jpg', 'car367.jpg', 'motorbike42.jpg', 'car362.jpg', 'car328.jpg', 'car47.jpg', 'motorbike203.jpg', 'bicycle225.jpg', 'motorbike65.jpg', 'car459.jpg', 'bicycle155.jpg', 'car219.jpg', 'bicycle205.jpg', 'car394.jpg', 'car54.jpg', 'car41.jpg', 'motorbike152.jpg', 'motorbike193.jpg', 'car334.jpg', 'motorbike47.jpg', 'car326.jpg', 'car222.jpg', 'motorbike21.jpg', 'car253.jpg', 'car365.jpg', 'car94.jpg', 'car161.jpg', 'car36.jpg', 'motorbike80.jpg', 'bicycle151.jpg', 'car391.jpg', 'bicycle44.jpg', 'car511.jpg', 'bicycle28.jpg', 'motorbike188.jpg', 'car148.jpg', 'bicycle82.jpg', 'motorbike31.jpg', 'motorbike89.jpg', 'car179.jpg', 'car261.jpg', 'car104.jpg', 'motorbike215.jpg', 'car447.jpg', 'bicycle199.jpg', 'car73.jpg', 'car231.jpg', 'car140.jpg', 'motorbike100.jpg', 'motorbike70.jpg', 'bicycle169.jpg', 'car293.jpg', 'car248.jpg', 'car108.jpg', 'bicycle78.jpg', 'car387.jpg', 'motorbike32.jpg', 'car53.jpg', 'car37.jpg', 'car135.jpg', 'bicycle38.jpg', 'motorbike104.jpg', 'car411.jpg', 'car399.jpg', 'car277.jpg', 'motorbike45.jpg', 'car514.jpg', 'car70.jpg', 'car260.jpg', 'car286.jpg', 'car172.jpg', 'bicycle215.jpg', 'car324.jpg', 'motorbike29.jpg', 'bicycle228.jpg', 'motorbike124.jpg', 'bicycle148.jpg', 'bicycle158.jpg', 'motorbike158.jpg', 'bicycle90.jpg', 'car472.jpg', 'bicycle189.jpg', 'bicycle85.jpg', 'car93.jpg', 'motorbike25.jpg', 'car224.jpg', 'car20.jpg', 'car75.jpg', 'bicycle79.jpg', 'car433.jpg', 'bicycle97.jpg', 'bicycle89.jpg', 'car167.jpg', 'car235.jpg', 'car359.jpg', 'motorbike111.jpg', 'bicycle200.jpg', 'car173.jpg', 'car176.jpg', 'bicycle34.jpg', 'motorbike176.jpg', 'car455.jpg', 'bicycle115.jpg', 'bicycle58.jpg', 'car509.jpg', 'car143.jpg', 'motorbike105.jpg', 'car96.jpg', 'car147.jpg', 'car499.jpg', 'car401.jpg', 'bicycle11.jpg', 'car57.jpg', 'motorbike141.jpg', 'bicycle87.jpg', 'bicycle172.jpg', 'motorbike12.jpg', 'car66.jpg', 'car121.jpg', 'bicycle128.jpg', 'car220.jpg', 'motorbike148.jpg', 'car8.jpg', 'bicycle43.jpg', 'bicycle173.jpg', 'car205.jpg', 'motorbike53.jpg', 'car106.jpg', 'motorbike151.jpg', 'car7.jpg', 'car112.jpg', 'car502.jpg', 'car292.jpg', 'car410.jpg', 'motorbike175.jpg', 'motorbike103.jpg', 'car485.jpg', 'car325.jpg', 'motorbike41.jpg', 'car170.jpg', 'bicycle157.jpg', 'car218.jpg', 'car486.jpg', 'car470.jpg', 'car295.jpg', 'bicycle147.jpg', 'car33.jpg', 'car297.jpg', 'car483.jpg', 'car195.jpg', 'bicycle180.jpg', 'bicycle1.jpg', 'motorbike210.jpg', 'bicycle101.jpg', 'bicycle99.jpg', 'car462.jpg', 'bicycle69.jpg', 'car95.jpg', 'bicycle60.jpg', 'car304.jpg', 'car134.jpg', 'car341.jpg', 'car181.jpg', 'motorbike82.jpg', 'car228.jpg', 'car230.jpg', 'car308.jpg', 'bicycle139.jpg', 'car272.jpg', 'car280.jpg', 'car413.jpg', 'motorbike78.jpg', 'car503.jpg', 'bicycle35.jpg', 'car208.jpg', 'bicycle52.jpg', 'car350.jpg', 'bicycle165.jpg', 'car124.jpg', 'bicycle119.jpg', 'car381.jpg', 'car276.jpg', 'car278.jpg', 'car203.jpg', 'motorbike61.jpg', 'bicycle2.jpg', 'bicycle146.jpg', 'bicycle163.jpg', 'motorbike93.jpg', 'car516.jpg', 'car113.jpg', 'bicycle108.jpg', 'bicycle198.jpg', 'bicycle0.jpg', 'car60.jpg', 'car344.jpg', 'car437.jpg', 'car32.jpg', 'bicycle156.jpg', 'bicycle94.jpg', 'motorbike177.jpg', 'motorbike170.jpg', 'car463.jpg', 'motorbike191.jpg', 'car393.jpg', 'car375.jpg', 'car45.jpg', 'bicycle168.jpg', 'bicycle24.jpg', 'bicycle30.jpg', 'bicycle93.jpg', 'car284.jpg', 'motorbike114.jpg', 'motorbike86.jpg', 'car266.jpg', 'car249.jpg', 'car442.jpg', 'motorbike214.jpg', 'motorbike6.jpg', 'motorbike107.jpg', 'motorbike37.jpg', 'car162.jpg', 'bicycle32.jpg', 'car428.jpg', 'car436.jpg', 'bicycle68.jpg', 'motorbike157.jpg', 'car48.jpg', 'car432.jpg', 'bicycle178.jpg', 'bicycle181.jpg', 'car403.jpg', 'motorbike19.jpg', 'car202.jpg', 'bicycle106.jpg', 'bicycle56.jpg', 'bicycle209.jpg', 'bicycle73.jpg', 'car229.jpg', 'car100.jpg', 'car69.jpg', 'car6.jpg', 'car495.jpg', 'car127.jpg', 'motorbike123.jpg', 'bicycle211.jpg', 'car352.jpg', 'bicycle166.jpg', 'bicycle22.jpg', 'motorbike133.jpg', 'bicycle184.jpg', 'car192.jpg', 'car21.jpg', 'car464.jpg', 'car62.jpg', 'bicycle213.jpg', 'car89.jpg', 'car490.jpg', 'car396.jpg', 'motorbike125.jpg', 'car353.jpg', 'motorbike28.jpg', 'car130.jpg', 'car494.jpg', 'car189.jpg', 'car448.jpg', 'motorbike172.jpg', 'car427.jpg', 'motorbike179.jpg', 'car273.jpg', 'motorbike48.jpg', 'car488.jpg', 'car14.jpg', 'motorbike11.jpg', 'car377.jpg', 'car314.jpg', 'bicycle218.jpg', 'motorbike194.jpg', 'motorbike139.jpg', 'motorbike192.jpg', 'bicycle117.jpg', 'car480.jpg', 'motorbike94.jpg', 'car317.jpg', 'car310.jpg', 'motorbike132.jpg', 'car146.jpg', 'car19.jpg', 'car257.jpg', 'motorbike22.jpg', 'bicycle126.jpg', 'car383.jpg', 'car339.jpg', 'car354.jpg', 'car408.jpg', 'car376.jpg', 'car288.jpg', 'car24.jpg', 'bicycle47.jpg', 'car336.jpg', 'bicycle162.jpg', 'motorbike135.jpg', 'car451.jpg', 'car348.jpg', 'motorbike15.jpg', 'bicycle39.jpg', 'bicycle143.jpg', 'car42.jpg', 'bicycle21.jpg', 'car23.jpg', 'car425.jpg', 'car99.jpg', 'bicycle95.jpg', 'car80.jpg', 'car501.jpg', 'car378.jpg', 'motorbike163.jpg', 'car225.jpg', 'motorbike56.jpg', 'car153.jpg', 'bicycle129.jpg', 'bicycle133.jpg', 'bicycle150.jpg', 'car445.jpg', 'motorbike13.jpg', 'car303.jpg', 'car182.jpg', 'car402.jpg', 'motorbike35.jpg', 'motorbike145.jpg', 'car12.jpg', 'bicycle37.jpg', 'motorbike146.jpg', 'car78.jpg', 'bicycle121.jpg', 'bicycle15.jpg', 'car504.jpg', 'car473.jpg', 'car395.jpg', 'car397.jpg', 'car199.jpg', 'motorbike1.jpg', 'bicycle138.jpg', 'bicycle7.jpg', 'car238.jpg', 'car116.jpg', 'bicycle124.jpg', 'car27.jpg', 'motorbike168.jpg', 'car271.jpg', 'bicycle10.jpg', 'bicycle116.jpg', 'car355.jpg', 'bicycle88.jpg', 'bicycle132.jpg', 'car71.jpg', 'motorbike113.jpg', 'car149.jpg', 'car128.jpg', 'car133.jpg', 'car270.jpg', 'motorbike67.jpg', 'car103.jpg', 'car398.jpg', 'car188.jpg', 'car40.jpg', 'car340.jpg', 'car169.jpg', 'car309.jpg', 'car142.jpg', 'car250.jpg', 'car311.jpg', 'car243.jpg', 'motorbike129.jpg', 'car349.jpg', 'car416.jpg', 'motorbike23.jpg', 'motorbike52.jpg', 'car256.jpg', 'bicycle137.jpg', 'car226.jpg', 'motorbike112.jpg', 'bicycle161.jpg', 'motorbike58.jpg', 'car87.jpg', 'bicycle3.jpg', 'car160.jpg', 'bicycle53.jpg', 'bicycle42.jpg', 'car234.jpg', 'car454.jpg', 'car0.jpg', 'bicycle193.jpg', 'motorbike217.jpg', 'motorbike169.jpg', 'car374.jpg', 'motorbike160.jpg', 'car136.jpg', 'bicycle54.jpg', 'bicycle190.jpg', 'car88.jpg', 'car138.jpg', 'car330.jpg', 'motorbike189.jpg', 'car505.jpg', 'bicycle140.jpg', 'car49.jpg', 'car171.jpg', 'car263.jpg', 'car5.jpg', 'bicycle64.jpg', 'motorbike98.jpg', 'car74.jpg', 'car300.jpg', 'car28.jpg', 'car426.jpg', 'motorbike202.jpg', 'motorbike99.jpg', 'motorbike51.jpg', 'car492.jpg', 'motorbike33.jpg', 'car475.jpg', 'car38.jpg', 'car500.jpg', 'motorbike17.jpg', 'bicycle23.jpg', 'car164.jpg', 'car382.jpg', 'motorbike3.jpg', 'car122.jpg', 'bicycle77.jpg', 'car150.jpg', 'car159.jpg', 'motorbike213.jpg', 'car132.jpg', 'car245.jpg', 'car281.jpg', 'car469.jpg', 'car517.jpg', 'motorbike137.jpg', 'car450.jpg', 'motorbike102.jpg', 'bicycle219.jpg', 'motorbike59.jpg', 'motorbike38.jpg', 'bicycle19.jpg', 'car343.jpg', 'car476.jpg', 'motorbike77.jpg', 'motorbike81.jpg', 'car258.jpg', 'motorbike174.jpg', 'motorbike120.jpg', 'bicycle5.jpg', 'car269.jpg', 'motorbike138.jpg', 'car227.jpg', 'car209.jpg', 'car287.jpg', 'car384.jpg', 'motorbike181.jpg', 'car285.jpg', 'bicycle125.jpg', 'bicycle80.jpg', 'car200.jpg', 'car246.jpg', 'car114.jpg', 'bicycle59.jpg', 'car168.jpg', 'car406.jpg', 'bicycle107.jpg', 'bicycle118.jpg', 'car77.jpg', 'car363.jpg', 'car385.jpg', 'car313.jpg', 'car421.jpg', 'car102.jpg', 'bicycle175.jpg', 'bicycle46.jpg', 'car489.jpg', 'car434.jpg', 'bicycle104.jpg', 'motorbike76.jpg', 'bicycle153.jpg', 'bicycle98.jpg', 'car247.jpg', 'car145.jpg', 'car360.jpg', 'car404.jpg', 'bicycle20.jpg', 'car465.jpg', 'car268.jpg', 'bicycle12.jpg', 'bicycle217.jpg', 'motorbike95.jpg', 'bicycle141.jpg', 'car301.jpg', 'car515.jpg', 'car101.jpg', 'car474.jpg', 'car419.jpg', 'car508.jpg', 'bicycle40.jpg', 'car237.jpg', 'motorbike131.jpg', 'bicycle66.jpg', 'bicycle192.jpg', 'car22.jpg', 'bicycle212.jpg', 'motorbike186.jpg', 'car84.jpg', 'car373.jpg', 'car368.jpg', 'car347.jpg', 'car305.jpg', 'bicycle114.jpg', 'motorbike30.jpg', 'bicycle136.jpg', 'car405.jpg', 'bicycle71.jpg', 'car439.jpg', 'motorbike140.jpg', 'car31.jpg', 'bicycle226.jpg', 'bicycle188.jpg', 'car481.jpg', 'motorbike40.jpg', 'motorbike4.jpg', 'car211.jpg', 'motorbike69.jpg', 'car178.jpg', 'motorbike154.jpg', 'bicycle113.jpg', 'car68.jpg', 'bicycle167.jpg', 'motorbike118.jpg', 'bicycle65.jpg', 'motorbike130.jpg', 'motorbike159.jpg', 'bicycle182.jpg', 'bicycle206.jpg', 'bicycle9.jpg', 'motorbike85.jpg', 'car97.jpg', 'car1.jpg', 'motorbike127.jpg', 'motorbike68.jpg', 'car318.jpg', 'car126.jpg', 'car512.jpg', 'motorbike97.jpg', 'car239.jpg', 'car306.jpg', 'car165.jpg', 'motorbike128.jpg', 'car282.jpg', 'car370.jpg', 'car184.jpg', 'bicycle142.jpg', 'motorbike43.jpg', 'car424.jpg', 'car477.jpg', 'motorbike72.jpg', 'bicycle164.jpg', 'car109.jpg', 'car25.jpg', 'car207.jpg', 'car444.jpg', 'car252.jpg', 'motorbike91.jpg', 'car198.jpg', 'car240.jpg', 'bicycle187.jpg', 'motorbike122.jpg', 'motorbike7.jpg', 'car457.jpg', 'motorbike18.jpg', 'motorbike34.jpg', 'car233.jpg', 'bicycle8.jpg', 'motorbike205.jpg', 'car296.jpg', 'car151.jpg', 'car141.jpg', 'car3.jpg', 'car371.jpg', 'car312.jpg', 'motorbike126.jpg', 'car321.jpg', 'bicycle76.jpg', 'car193.jpg', 'car10.jpg', 'car86.jpg', 'car13.jpg', 'bicycle70.jpg', 'car50.jpg', 'bicycle91.jpg', 'car39.jpg', 'car320.jpg', 'motorbike121.jpg', 'car482.jpg', 'car452.jpg', 'car46.jpg', 'motorbike84.jpg', 'car232.jpg', 'car412.jpg']\n"
     ]
    }
   ],
   "source": [
    "print(imlist)"
   ]
  },
  {
   "cell_type": "code",
   "execution_count": null,
   "metadata": {
    "collapsed": true
   },
   "outputs": [],
   "source": []
  }
 ],
 "metadata": {
  "kernelspec": {
   "display_name": "Python 3",
   "language": "python",
   "name": "python3"
  },
  "language_info": {
   "codemirror_mode": {
    "name": "ipython",
    "version": 3
   },
   "file_extension": ".py",
   "mimetype": "text/x-python",
   "name": "python",
   "nbconvert_exporter": "python",
   "pygments_lexer": "ipython3",
   "version": "3.6.8"
  }
 },
 "nbformat": 4,
 "nbformat_minor": 2
}
