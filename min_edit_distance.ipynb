{
 "cells": [
  {
   "cell_type": "code",
   "execution_count": 13,
   "metadata": {},
   "outputs": [
    {
     "name": "stdin",
     "output_type": "stream",
     "text": [
      "enter substitution cost 2\n",
      "enter insertion cost 1\n",
      "enter deletion cost 1\n"
     ]
    },
    {
     "name": "stdout",
     "output_type": "stream",
     "text": [
      "[[ 0  1  2  3  4  5  6  7  8  9]\n",
      " [ 1  2  3  4  5  6  7  6  7  8]\n",
      " [ 2  3  4  5  6  7  8  7  8  7]\n",
      " [ 3  4  5  6  7  8  7  8  9  8]\n",
      " [ 4  3  4  5  6  7  8  9 10  9]\n",
      " [ 5  4  5  6  7  8  9 10 11 10]\n",
      " [ 6  5  6  7  8  9  8  9 10 11]\n",
      " [ 7  6  7  8  9 10  9  8  9 10]\n",
      " [ 8  7  8  9 10 11 10  9  8  9]\n",
      " [ 9  8  9 10 11 12 11 10  9  8]]\n"
     ]
    }
   ],
   "source": [
    "import numpy as np\n",
    "flag=False\n",
    "row=0\n",
    "column=0\n",
    "row_str=\"\"\n",
    "col_str=\"\"\n",
    "f=open(\"/home/rana/mypython/file.txt\")\n",
    "for W in f:\n",
    "    if flag==False:\n",
    "        row=len(W)\n",
    "        row_str=W\n",
    "        #print(row_str,\"=\",row)\n",
    "    else:\n",
    "        column=len(W)\n",
    "        col_str=W\n",
    "        #print(col_str,\"=\",column)\n",
    "    flag=True\n",
    "f.close()\n",
    "matrix=np.zeros((row,column),np.int32)\n",
    " \n",
    "#scoring\n",
    "sub_cost=input(\"enter substitution cost\")\n",
    "insrt_cost=input(\"enter insertion cost\")\n",
    "del_cost=input(\"enter deletion cost\")\n",
    " \n",
    " \n",
    "def _compute_array():\n",
    "    for i in range(1, row):\n",
    "        for j in range(1, column):\n",
    "            matrix[i][j] = min(  matrix[i-1][ j-1] + _get_score(i, j),\n",
    "                                    matrix[i-1][j] + int(del_cost),\n",
    "                                    matrix[i][j-1] + int(insrt_cost))\n",
    "def _get_score( i, j):\n",
    "    if row_str[i-1]==col_str[j-1]:\n",
    "        return 0\n",
    "    else:\n",
    "        return int(sub_cost) \n",
    " \n",
    "flag=True\n",
    "matrix[0,0]=0\n",
    "matrix[0,1]=1 \n",
    "matrix[1,0]=1\n",
    "for i in range(0,1):\n",
    "    for j in range(2,column):\n",
    "        matrix[i][j]=matrix[i][j-1]+1\n",
    "for i in range(0,1):\n",
    "    for j in range(2,row):\n",
    "        matrix[j][i]=matrix[j-1][i]+1\n",
    "_compute_array()\n",
    "#_traceback()\n",
    "print (matrix)"
   ]
  },
  {
   "cell_type": "markdown",
   "metadata": {},
   "source": [
    "## jljljljlljlk"
   ]
  }
 ],
 "metadata": {
  "kernelspec": {
   "display_name": "Python 3",
   "language": "python",
   "name": "python3"
  },
  "language_info": {
   "codemirror_mode": {
    "name": "ipython",
    "version": 3
   },
   "file_extension": ".py",
   "mimetype": "text/x-python",
   "name": "python",
   "nbconvert_exporter": "python",
   "pygments_lexer": "ipython3",
   "version": "3.6.8"
  }
 },
 "nbformat": 4,
 "nbformat_minor": 2
}
